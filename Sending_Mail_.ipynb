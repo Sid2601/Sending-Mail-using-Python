{
  "nbformat": 4,
  "nbformat_minor": 0,
  "metadata": {
    "colab": {
      "name": "Sending Mail .ipynb",
      "provenance": [],
      "authorship_tag": "ABX9TyMnZNsJpxcTECZ+D8NupvWJ",
      "include_colab_link": true
    },
    "kernelspec": {
      "name": "python3",
      "display_name": "Python 3"
    },
    "language_info": {
      "name": "python"
    },
    "accelerator": "GPU"
  },
  "cells": [
    {
      "cell_type": "markdown",
      "metadata": {
        "id": "view-in-github",
        "colab_type": "text"
      },
      "source": [
        "<a href=\"https://colab.research.google.com/github/Sid2601/Sending-Mail-using-Python/blob/main/Sending_Mail_.ipynb\" target=\"_parent\"><img src=\"https://colab.research.google.com/assets/colab-badge.svg\" alt=\"Open In Colab\"/></a>"
      ]
    },
    {
      "cell_type": "code",
      "metadata": {
        "id": "h52O7ysjnUQz"
      },
      "source": [
        "import smtplib\n",
        "from email.mime.multipart import MIMEMultipart\n",
        "from email.mime.text import MIMEText\n",
        "from email.mime.base import MIMEBase\n",
        "from email import encoders"
      ],
      "execution_count": 2,
      "outputs": []
    },
    {
      "cell_type": "code",
      "metadata": {
        "id": "2y0egONunyg2"
      },
      "source": [
        "#sender address\n",
        "fromaddr = \"########@gmail.com\"\n",
        "#sender password\n",
        "password = \"#########\"\n",
        "#receiver address\n",
        "toaddr = \"###########@gmail.com\"\n"
      ],
      "execution_count": 3,
      "outputs": []
    },
    {
      "cell_type": "code",
      "metadata": {
        "id": "Dth59oHvoH8N"
      },
      "source": [
        "#instance of MIMEMultipart , it will divide email into multiple part\n",
        "msg =MIMEMultipart()"
      ],
      "execution_count": 4,
      "outputs": []
    },
    {
      "cell_type": "code",
      "metadata": {
        "id": "q3uHQ-77oQN8"
      },
      "source": [
        "#storing the sender email address\n",
        "msg['From'] = fromaddr\n",
        "msg['To'] = toaddr\n",
        "msg['Subject'] = \"Testing mail from python\"\n"
      ],
      "execution_count": 5,
      "outputs": []
    },
    {
      "cell_type": "code",
      "metadata": {
        "id": "iybz7F-Fo9Ce"
      },
      "source": [
        "#store body message\n",
        "body = \"body of the mail\"\n",
        "#attach the body with msg instance\n",
        "msg.attach(MIMEText(body,'plain'))"
      ],
      "execution_count": 6,
      "outputs": []
    },
    {
      "cell_type": "code",
      "metadata": {
        "id": "wGKHtiX7pM-c"
      },
      "source": [
        "#open the file to be sent\n",
        "filename = \"/content/anim.png\"\n",
        "attachment = open(filename,\"rb\")\n",
        "\n"
      ],
      "execution_count": 7,
      "outputs": []
    },
    {
      "cell_type": "code",
      "metadata": {
        "id": "rNg8R5IXqKy4"
      },
      "source": [
        "#instance of MIMEBase\n",
        "p = MIMEBase('application','octet-stream')\n"
      ],
      "execution_count": 8,
      "outputs": []
    },
    {
      "cell_type": "code",
      "metadata": {
        "id": "Gae4aOOuqYQv"
      },
      "source": [
        "#To change the payload into encoded form\n",
        "#here payload means bind \n",
        "p.set_payload((attachment).read())"
      ],
      "execution_count": 9,
      "outputs": []
    },
    {
      "cell_type": "code",
      "metadata": {
        "id": "QlXtBEtnqzTj"
      },
      "source": [
        "#encoded into base64\n",
        "encoders.encode_base64(p)"
      ],
      "execution_count": 10,
      "outputs": []
    },
    {
      "cell_type": "code",
      "metadata": {
        "id": "0As1CFYJq47_"
      },
      "source": [
        "p.add_header('Content-Disposition',\"attachment; filename = %s\" %filename)"
      ],
      "execution_count": 11,
      "outputs": []
    },
    {
      "cell_type": "code",
      "metadata": {
        "id": "fKSlvbjMvfrS"
      },
      "source": [
        "#attach the instance p to msg\n",
        "msg.attach(p)\n"
      ],
      "execution_count": 12,
      "outputs": []
    },
    {
      "cell_type": "code",
      "metadata": {
        "colab": {
          "base_uri": "https://localhost:8080/"
        },
        "id": "hhSYfDFxvsN5",
        "outputId": "b69d5731-a662-4d16-c863-3dbbe872caf5"
      },
      "source": [
        "#creates the SMTP session\n",
        "server  = smtplib.SMTP('smtp.gmail.com',587)\n",
        "server.starttls()\n",
        "server.login(fromaddr,password)\n",
        "\n",
        "#converts the multipart msg into a string\n",
        "\n",
        "server.sendmail(fromaddr,toaddr,msg.as_string())\n",
        "server.quit()"
      ],
      "execution_count": 15,
      "outputs": [
        {
          "output_type": "execute_result",
          "data": {
            "text/plain": [
              "(221, b'2.0.0 closing connection s23sm2083519pjg.15 - gsmtp')"
            ]
          },
          "metadata": {
            "tags": []
          },
          "execution_count": 15
        }
      ]
    },
    {
      "cell_type": "code",
      "metadata": {
        "id": "0YfqWeqlwihx"
      },
      "source": [
        ""
      ],
      "execution_count": null,
      "outputs": []
    }
  ]
}